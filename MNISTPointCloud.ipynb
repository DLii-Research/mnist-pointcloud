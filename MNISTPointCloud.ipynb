{
 "cells": [
  {
   "cell_type": "markdown",
   "id": "735c6aec",
   "metadata": {},
   "source": [
    "# MNIST Point Cloud Generation\n",
    "\n",
    "This notebook generates point clouds from the MNIST dataset and writes them to numpy files."
   ]
  },
  {
   "cell_type": "code",
   "execution_count": 1,
   "id": "3c569e77",
   "metadata": {},
   "outputs": [],
   "source": [
    "import matplotlib.pyplot as plt\n",
    "import numpy as np\n",
    "from os.path import join\n",
    "import tensorflow.keras as keras"
   ]
  },
  {
   "cell_type": "markdown",
   "id": "8ddb80f2",
   "metadata": {},
   "source": [
    "## Point Cloud Generation\n",
    "\n",
    "The following function quickly yields point clouds by making use of `numpy` efficiently."
   ]
  },
  {
   "cell_type": "code",
   "execution_count": 2,
   "id": "4b54655c",
   "metadata": {},
   "outputs": [],
   "source": [
    "def generate_mnist_pointclouds(dataset, num_points=100, threshold=50):\n",
    "    # Create a 1-dimensional array of pixels across all images\n",
    "    img_ids, y_pixels, x_pixels = np.nonzero(dataset > threshold)\n",
    "    pixels = np.column_stack((x_pixels, 28 - y_pixels))\n",
    "    \n",
    "    # Determine the starting pixel index of each image\n",
    "    img_ids, pixel_counts = np.unique(img_ids, return_counts=True)\n",
    "    pixel_index_offsets = np.roll(np.cumsum(pixel_counts), 1)\n",
    "    pixel_index_offsets[0] = 0\n",
    "    \n",
    "    # Generate random pixel indices for each image. (len_dataset, num_points)\n",
    "    random_pixel_indices = np.random.uniform(size=(num_points, dataset.shape[0]))\n",
    "    pixel_indices = np.floor(pixel_counts[img_ids]*random_pixel_indices).astype(dtype=int).T\n",
    "    pixel_indices += pixel_index_offsets.reshape(-1, 1)\n",
    "    \n",
    "    # Generate the point clouds\n",
    "    points = pixels[pixel_indices].astype(float)\n",
    "    points += np.random.uniform(size=points.shape)\n",
    "    \n",
    "    return points"
   ]
  },
  {
   "cell_type": "markdown",
   "id": "54adaa20",
   "metadata": {},
   "source": [
    "---\n",
    "## Load the Dataset"
   ]
  },
  {
   "cell_type": "code",
   "execution_count": 3,
   "id": "df21b1ae",
   "metadata": {},
   "outputs": [],
   "source": [
    "(x_train_img, y_train_img), (x_test_img, y_test_img) = keras.datasets.mnist.load_data()"
   ]
  },
  {
   "cell_type": "code",
   "execution_count": 4,
   "id": "1bc4201a",
   "metadata": {},
   "outputs": [
    {
     "data": {
      "text/plain": [
       "((60000, 28, 28), (60000,))"
      ]
     },
     "execution_count": 4,
     "metadata": {},
     "output_type": "execute_result"
    }
   ],
   "source": [
    "x_train_img.shape, y_train_img.shape"
   ]
  },
  {
   "cell_type": "code",
   "execution_count": 5,
   "id": "cc807762",
   "metadata": {},
   "outputs": [
    {
     "data": {
      "text/plain": [
       "((10000, 28, 28), (10000,))"
      ]
     },
     "execution_count": 5,
     "metadata": {},
     "output_type": "execute_result"
    }
   ],
   "source": [
    "x_test_img.shape, y_test_img.shape"
   ]
  },
  {
   "cell_type": "markdown",
   "id": "5f1179cd",
   "metadata": {},
   "source": [
    "---\n",
    "## Config and Preview"
   ]
  },
  {
   "cell_type": "code",
   "execution_count": 6,
   "id": "2b81b44e",
   "metadata": {},
   "outputs": [],
   "source": [
    "# Config\n",
    "num_points = 1000\n",
    "threshold = 50"
   ]
  },
  {
   "cell_type": "code",
   "execution_count": 7,
   "id": "99110b81",
   "metadata": {},
   "outputs": [
    {
     "data": {
      "image/png": "[encoded data removed]",
      "text/plain": [
       "<Figure size 432x288 with 1 Axes>"
      ]
     },
     "metadata": {
      "needs_background": "light"
     },
     "output_type": "display_data"
    }
   ],
   "source": [
    "plt.imshow(x_train_img[5] > threshold)\n",
    "plt.show()"
   ]
  },
  {
   "cell_type": "code",
   "execution_count": 8,
   "id": "f87dd4a7",
   "metadata": {},
   "outputs": [
    {
     "data": {
      "text/plain": [
       "<matplotlib.collections.PathCollection at 0x7f4c5bdb5670>"
      ]
     },
     "execution_count": 8,
     "metadata": {},
     "output_type": "execute_result"
    },
    {
     "data": {
      "image/png": "[encoded data removed]",
      "text/plain": [
       "<Figure size 432x288 with 1 Axes>"
      ]
     },
     "metadata": {
      "needs_background": "light"
     },
     "output_type": "display_data"
    }
   ],
   "source": [
    "mnist_index = 5\n",
    "points = generate_mnist_pointclouds(x_train_img[mnist_index:mnist_index+1], num_points, threshold)\n",
    "plt.scatter(*points.T)"
   ]
  },
  {
   "cell_type": "markdown",
   "id": "62a567f4",
   "metadata": {},
   "source": [
    "---\n",
    "## Dataset Generation"
   ]
  },
  {
   "cell_type": "code",
   "execution_count": 19,
   "id": "088f71d5",
   "metadata": {},
   "outputs": [],
   "source": [
    "output_path = \"./\""
   ]
  },
  {
   "cell_type": "code",
   "execution_count": 20,
   "id": "168fb4d8",
   "metadata": {},
   "outputs": [],
   "source": [
    "x_train = generate_mnist_pointclouds(x_train_img, num_points, threshold)"
   ]
  },
  {
   "cell_type": "code",
   "execution_count": 21,
   "id": "1430ac83",
   "metadata": {},
   "outputs": [],
   "source": [
    "x_test = generate_mnist_pointclouds(x_test_img, num_points, threshold)"
   ]
  },
  {
   "cell_type": "code",
   "execution_count": 22,
   "id": "dd218afa",
   "metadata": {},
   "outputs": [],
   "source": [
    "np.savez(join(output_path, f\"mnist_point_cloud_train_{num_points}\"), x_train)\n",
    "np.savez(join(output_path, f\"mnist_point_cloud_test_{num_points}\"), x_test)"
   ]
  },
  {
   "cell_type": "code",
   "execution_count": null,
   "id": "4b86853b",
   "metadata": {},
   "outputs": [],
   "source": []
  }
 ],
 "metadata": {
  "kernelspec": {
   "display_name": "Python 3",
   "language": "python",
   "name": "python3"
  },
  "language_info": {
   "codemirror_mode": {
    "name": "ipython",
    "version": 3
   },
   "file_extension": ".py",
   "mimetype": "text/x-python",
   "name": "python",
   "nbconvert_exporter": "python",
   "pygments_lexer": "ipython3",
   "version": "3.8.6"
  }
 },
 "nbformat": 4,
 "nbformat_minor": 5
}
